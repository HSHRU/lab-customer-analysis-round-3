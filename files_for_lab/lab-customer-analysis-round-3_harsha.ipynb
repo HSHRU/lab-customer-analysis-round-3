{
 "cells": [
  {
   "cell_type": "markdown",
   "id": "779f607e",
   "metadata": {},
   "source": [
    "# Show DataFrame info."
   ]
  },
  {
   "cell_type": "code",
   "execution_count": null,
   "id": "f939869e",
   "metadata": {},
   "outputs": [],
   "source": [
    "import pandas as pd\n",
    "import numpy as np\n",
    "\n",
    "#cus_anlys_r3 = \n",
    "\n",
    "\n",
    "cus_anlys_r3 = pd.read_csv('marketing_customer_analysis.csv')\n",
    "#data = pd.to_csv('merged_clean_ver1.csv', index=False)\n",
    "\n",
    "#instead of:\n",
    "#data = pd.to_csv('merged_clean_ver1.csv', index=False)\n",
    "\n",
    "#data.to_csv('merged_clean_ver1.csv', index=False)\n",
    "\n",
    "\n",
    "#cus_anlys_r3 = cus_anlys_r3.drop(['Unnamed: 0'],axis=1)\n",
    "cus_anlys_r3.head()"
   ]
  },
  {
   "cell_type": "code",
   "execution_count": null,
   "id": "4b7789eb",
   "metadata": {},
   "outputs": [],
   "source": [
    "cus_anlys_r3.shape"
   ]
  },
  {
   "cell_type": "code",
   "execution_count": null,
   "id": "3c2f0932",
   "metadata": {
    "scrolled": true
   },
   "outputs": [],
   "source": [
    "import pandas as pd\n",
    "\n",
    "df = pd.DataFrame(cus_anlys_r3)\n",
    "\n",
    "# remove spaces in columns name\n",
    "df.columns = df.columns.str.replace(' ','_')\n",
    "\n",
    "df.columns\n",
    "print(df.describe())"
   ]
  },
  {
   "cell_type": "code",
   "execution_count": null,
   "id": "e3ae04f4",
   "metadata": {
    "scrolled": false
   },
   "outputs": [],
   "source": [
    "df.describe(include='all').T"
   ]
  },
  {
   "cell_type": "code",
   "execution_count": null,
   "id": "1bce93ed",
   "metadata": {},
   "outputs": [],
   "source": []
  },
  {
   "cell_type": "code",
   "execution_count": null,
   "id": "098abc21",
   "metadata": {},
   "outputs": [],
   "source": []
  },
  {
   "cell_type": "code",
   "execution_count": null,
   "id": "6d72260d",
   "metadata": {
    "scrolled": true
   },
   "outputs": [],
   "source": [
    "df.describe(include=['object']).T\n",
    "\n",
    "df.info()"
   ]
  },
  {
   "cell_type": "markdown",
   "id": "aab07cf5",
   "metadata": {},
   "source": [
    "# Show a plot of the total number of responses."
   ]
  },
  {
   "cell_type": "code",
   "execution_count": null,
   "id": "d8c99798",
   "metadata": {},
   "outputs": [],
   "source": [
    "import matplotlib.pyplot as plt\n",
    "%matplotlib inline\n",
    "import matplotlib.pyplot as plt\n",
    "import seaborn as sns \n",
    "\n",
    "df['Response'].value_counts().plot(kind='bar')"
   ]
  },
  {
   "cell_type": "markdown",
   "id": "0d46f5ae",
   "metadata": {},
   "source": [
    "# Show a plot of the response rate by the sales channel."
   ]
  },
  {
   "cell_type": "code",
   "execution_count": null,
   "id": "7783df89",
   "metadata": {},
   "outputs": [],
   "source": [
    "\n",
    "plt.rcParams['figure.figsize'] = (12,8)\n",
    "#\n",
    " \n",
    "#sns.countplot(x = 'class', y = 'fare',\n",
    "#            hue = 'sex',\n",
    " #           data = df,color=\"salmon\")\n",
    "#sns.countplot(x ='sex', data = df,color=\"salmon\", facecolor=(0, 0, 0, 0),\n",
    "#                   linewidth=5,\n",
    "#                   edgecolor=sns.color_palette(\"BrBG\", 2))\n",
    "\n",
    "sns.countplot('Sales_Channel',hue = 'Response', data = df)\n",
    "#sns.countplot('response', hue='sales_channels',data=data)\n",
    "\n",
    "\n",
    "#df['month']\n",
    "plt.ylabel('response by Sales channel')"
   ]
  },
  {
   "cell_type": "markdown",
   "id": "52f280b9",
   "metadata": {},
   "source": [
    "# To make rate column"
   ]
  },
  {
   "cell_type": "code",
   "execution_count": null,
   "id": "8ec8324f",
   "metadata": {},
   "outputs": [],
   "source": [
    "df['Response_rate'] = np.where(df.Response=='Yes',1,0)"
   ]
  },
  {
   "cell_type": "markdown",
   "id": "67ec12fc",
   "metadata": {},
   "source": [
    "#### Use a groupby to create the rate"
   ]
  },
  {
   "cell_type": "code",
   "execution_count": null,
   "id": "a03ed919",
   "metadata": {},
   "outputs": [],
   "source": [
    "plt.rcParams['figure.figsize'] = (12,8)\n",
    "df.groupby('Response').hist()"
   ]
  },
  {
   "cell_type": "code",
   "execution_count": null,
   "id": "c63f0cd1",
   "metadata": {},
   "outputs": [],
   "source": []
  },
  {
   "cell_type": "code",
   "execution_count": null,
   "id": "ae125e46",
   "metadata": {},
   "outputs": [],
   "source": [
    "#sns.barplot(x='Sales_Channel',y= 'Response_rate',date= df)\n",
    "plt.rcParams['figure.figsize'] = (12,8)\n",
    "df['Response_rate'].value_counts().plot(kind='bar')"
   ]
  },
  {
   "cell_type": "code",
   "execution_count": null,
   "id": "d8ed5a4f",
   "metadata": {},
   "outputs": [],
   "source": []
  },
  {
   "cell_type": "code",
   "execution_count": null,
   "id": "68f59075",
   "metadata": {},
   "outputs": [],
   "source": []
  },
  {
   "cell_type": "code",
   "execution_count": null,
   "id": "15389063",
   "metadata": {},
   "outputs": [],
   "source": []
  },
  {
   "cell_type": "markdown",
   "id": "1bc5b26e",
   "metadata": {},
   "source": [
    "# Show a plot of the response rate by the total claim amount."
   ]
  },
  {
   "cell_type": "code",
   "execution_count": null,
   "id": "27328f46",
   "metadata": {},
   "outputs": [],
   "source": []
  },
  {
   "cell_type": "code",
   "execution_count": null,
   "id": "fb39ad5c",
   "metadata": {},
   "outputs": [],
   "source": [
    "#plt.rcParams['figure.figsize'] = (12,8)\n",
    "#plothist.count('Response_rate',hue = 'Total_Claim_Amount', data = df)"
   ]
  },
  {
   "cell_type": "markdown",
   "id": "4ef3ab59",
   "metadata": {},
   "source": [
    "# Show a plot of the response rate by income."
   ]
  },
  {
   "cell_type": "code",
   "execution_count": null,
   "id": "4edf5f2e",
   "metadata": {},
   "outputs": [],
   "source": [
    "#data2[income_bins]= ()"
   ]
  },
  {
   "cell_type": "code",
   "execution_count": null,
   "id": "bb0a3be0",
   "metadata": {},
   "outputs": [],
   "source": [
    "#countplot.bar('Income', 'Response_rate',data=df)"
   ]
  },
  {
   "cell_type": "code",
   "execution_count": null,
   "id": "a35c5146",
   "metadata": {},
   "outputs": [],
   "source": []
  },
  {
   "cell_type": "code",
   "execution_count": null,
   "id": "4f8685e9",
   "metadata": {},
   "outputs": [],
   "source": []
  },
  {
   "cell_type": "code",
   "execution_count": null,
   "id": "cfe22f6d",
   "metadata": {},
   "outputs": [],
   "source": []
  },
  {
   "cell_type": "code",
   "execution_count": null,
   "id": "07bb287b",
   "metadata": {},
   "outputs": [],
   "source": []
  },
  {
   "cell_type": "code",
   "execution_count": null,
   "id": "f1502a73",
   "metadata": {},
   "outputs": [],
   "source": [
    "function to create bins"
   ]
  },
  {
   "cell_type": "code",
   "execution_count": null,
   "id": "418090fc",
   "metadata": {},
   "outputs": [],
   "source": []
  },
  {
   "cell_type": "code",
   "execution_count": null,
   "id": "52e662eb",
   "metadata": {},
   "outputs": [],
   "source": []
  },
  {
   "cell_type": "code",
   "execution_count": null,
   "id": "de636dbe",
   "metadata": {},
   "outputs": [],
   "source": []
  },
  {
   "cell_type": "code",
   "execution_count": null,
   "id": "a6f2cbf8",
   "metadata": {},
   "outputs": [],
   "source": []
  },
  {
   "cell_type": "code",
   "execution_count": null,
   "id": "742cd996",
   "metadata": {},
   "outputs": [],
   "source": []
  },
  {
   "cell_type": "markdown",
   "id": "8490390b",
   "metadata": {},
   "source": [
    "##### Check the data types of the columns. Get the numeric data into dataframe called numerical and categorical columns in a dataframe called categoricals. (You can use np.number and np.object to select the numerical data types and categorical data types respectively)"
   ]
  },
  {
   "cell_type": "markdown",
   "id": "2ca42f17",
   "metadata": {},
   "source": [
    "### First get the numeric data into dataframe called numerical columns "
   ]
  },
  {
   "cell_type": "code",
   "execution_count": null,
   "id": "9a3e697b",
   "metadata": {},
   "outputs": [],
   "source": [
    "import pandas as pd\n",
    "import numpy as np\n",
    "import matplotlib.pyplot as plt\n",
    "import seaborn as sns \n",
    "\n",
    "\n",
    "\n",
    "cus_anlys_r4 = pd.read_csv('marketing_customer_analysis.csv')\n",
    "\n",
    "cus_anlys_r4_numeric = cus_anlys_r4._get_numeric_data()\n",
    "\n",
    "cus_anlys_r4_numeric\n",
    "\n",
    "\n",
    "#cus_anlys_r4_numeric.drop_duplicates()"
   ]
  },
  {
   "cell_type": "code",
   "execution_count": null,
   "id": "3f65e8f8",
   "metadata": {
    "scrolled": true
   },
   "outputs": [],
   "source": [
    "cus_anlys_r4_numeric.shape"
   ]
  },
  {
   "cell_type": "code",
   "execution_count": null,
   "id": "76fcdc9f",
   "metadata": {},
   "outputs": [],
   "source": [
    "cus_anlys_r4_numeric.drop_duplicates()\n"
   ]
  },
  {
   "cell_type": "code",
   "execution_count": null,
   "id": "13c71d86",
   "metadata": {},
   "outputs": [],
   "source": [
    "cus_anlys_r4_numeric_WOD = cus_anlys_r4_numeric.drop_duplicates()\n",
    "# WOD --> with out duplicates"
   ]
  },
  {
   "cell_type": "code",
   "execution_count": null,
   "id": "19a06a31",
   "metadata": {
    "scrolled": true
   },
   "outputs": [],
   "source": [
    "cus_anlys_r4_numeric_WOD.shape"
   ]
  },
  {
   "cell_type": "markdown",
   "id": "0b4f8f8d",
   "metadata": {},
   "source": [
    "#### First get the numeric data into dataframe called categorical columns"
   ]
  },
  {
   "cell_type": "code",
   "execution_count": null,
   "id": "79a3985e",
   "metadata": {},
   "outputs": [],
   "source": [
    "cus_anlys_r4.select_dtypes(include='object').columns"
   ]
  },
  {
   "cell_type": "code",
   "execution_count": null,
   "id": "6c7c7868",
   "metadata": {},
   "outputs": [],
   "source": [
    "cus_anlys_r4.Response[:]\n",
    "#cus_anlys_r4.Gender[:]"
   ]
  },
  {
   "cell_type": "code",
   "execution_count": null,
   "id": "f4bc4cd3",
   "metadata": {},
   "outputs": [],
   "source": [
    "cus_anlys_r4.Gender[:]"
   ]
  },
  {
   "cell_type": "code",
   "execution_count": null,
   "id": "61d1efd3",
   "metadata": {},
   "outputs": [],
   "source": []
  },
  {
   "cell_type": "markdown",
   "id": "6061e3ff",
   "metadata": {},
   "source": [
    "#### Now we will try to check the normality of the numerical variables visually"
   ]
  },
  {
   "cell_type": "code",
   "execution_count": null,
   "id": "1bf345ce",
   "metadata": {},
   "outputs": [],
   "source": []
  },
  {
   "cell_type": "code",
   "execution_count": null,
   "id": "dc6c9cd9",
   "metadata": {},
   "outputs": [],
   "source": []
  },
  {
   "cell_type": "code",
   "execution_count": null,
   "id": "21933a25",
   "metadata": {},
   "outputs": [],
   "source": [
    "from sklearn import linear_model\n",
    "from sklearn.metrics import mean_squared_error, r2_score\n"
   ]
  },
  {
   "cell_type": "code",
   "execution_count": null,
   "id": "5ed85575",
   "metadata": {},
   "outputs": [],
   "source": []
  },
  {
   "cell_type": "code",
   "execution_count": null,
   "id": "1fa437d7",
   "metadata": {},
   "outputs": [],
   "source": []
  },
  {
   "cell_type": "code",
   "execution_count": null,
   "id": "2a5012a6",
   "metadata": {},
   "outputs": [],
   "source": []
  },
  {
   "cell_type": "code",
   "execution_count": null,
   "id": "94106dc1",
   "metadata": {},
   "outputs": [],
   "source": []
  },
  {
   "cell_type": "code",
   "execution_count": null,
   "id": "9e032b72",
   "metadata": {},
   "outputs": [],
   "source": []
  },
  {
   "cell_type": "code",
   "execution_count": null,
   "id": "004b1cbe",
   "metadata": {},
   "outputs": [],
   "source": []
  },
  {
   "cell_type": "code",
   "execution_count": null,
   "id": "9e1b87f5",
   "metadata": {},
   "outputs": [],
   "source": []
  },
  {
   "cell_type": "code",
   "execution_count": null,
   "id": "fbefd846",
   "metadata": {},
   "outputs": [],
   "source": []
  },
  {
   "cell_type": "code",
   "execution_count": null,
   "id": "e59b1e7d",
   "metadata": {},
   "outputs": [],
   "source": []
  },
  {
   "cell_type": "code",
   "execution_count": null,
   "id": "21c57950",
   "metadata": {},
   "outputs": [],
   "source": []
  },
  {
   "cell_type": "markdown",
   "id": "195200d6",
   "metadata": {},
   "source": [
    "####  Customer Analysis Round 5"
   ]
  },
  {
   "cell_type": "code",
   "execution_count": null,
   "id": "f673e17d",
   "metadata": {},
   "outputs": [],
   "source": [
    "import pandas as pd\n",
    "import numpy as np\n",
    "import matplotlib.pyplot as plt\n",
    "import seaborn as sns\n",
    "%matplotlib inline\n"
   ]
  },
  {
   "cell_type": "code",
   "execution_count": null,
   "id": "d19820c8",
   "metadata": {
    "scrolled": true
   },
   "outputs": [],
   "source": [
    "cus_anlys_r5 = pd.read_csv('marketing_customer_analysis.csv')\n",
    "#data = pd.to_csv('merged_clean_ver1.csv', index=False)\n",
    "\n",
    "#instead of:\n",
    "#data = pd.to_csv('merged_clean_ver1.csv', index=False)\n",
    "\n",
    "#data.to_csv('merged_clean_ver1.csv', index=False)\n",
    "\n",
    "\n",
    "#cus_anlys_r3 = cus_anlys_r3.drop(['Unnamed: 0'],axis=1)\n",
    "cus_anlys_r5.head()"
   ]
  },
  {
   "cell_type": "code",
   "execution_count": null,
   "id": "e0c1acd0",
   "metadata": {
    "scrolled": true
   },
   "outputs": [],
   "source": [
    "cus_anlys_r5.shape\n",
    "\n",
    "df = cus_anlys_r4_numeric_WOD\n",
    "\n",
    "df.T"
   ]
  },
  {
   "cell_type": "code",
   "execution_count": null,
   "id": "c6af06d2",
   "metadata": {
    "scrolled": true
   },
   "outputs": [],
   "source": [
    "df.head()"
   ]
  },
  {
   "cell_type": "code",
   "execution_count": null,
   "id": "44925fcb",
   "metadata": {},
   "outputs": [],
   "source": [
    "# remove spaces in columns name\n",
    "df.columns = df.columns.str.replace(' ','_')\n",
    "\n"
   ]
  },
  {
   "cell_type": "code",
   "execution_count": null,
   "id": "c9ec83dc",
   "metadata": {
    "scrolled": true
   },
   "outputs": [],
   "source": [
    "df.columns\n",
    "print(df.describe())\n",
    "\n"
   ]
  },
  {
   "cell_type": "code",
   "execution_count": null,
   "id": "94bfc7c6",
   "metadata": {},
   "outputs": [],
   "source": [
    "sns.displot(df['Monthly_Premium_Auto'])\n",
    "plt.show()"
   ]
  },
  {
   "cell_type": "code",
   "execution_count": null,
   "id": "df1c1418",
   "metadata": {},
   "outputs": [],
   "source": [
    "# plt.rcParams['figure.figsize'] = (12,8)\n",
    "# df.groupby('Income').hist()"
   ]
  },
  {
   "cell_type": "code",
   "execution_count": null,
   "id": "4eda5448",
   "metadata": {},
   "outputs": [],
   "source": [
    "sns.displot(data['Income'])\n",
    "plt.show()"
   ]
  },
  {
   "cell_type": "code",
   "execution_count": null,
   "id": "8b730c48",
   "metadata": {},
   "outputs": [],
   "source": []
  },
  {
   "cell_type": "code",
   "execution_count": null,
   "id": "cbb7f0f7",
   "metadata": {},
   "outputs": [],
   "source": [
    "# Normalizing and scaling\n",
    "# going back to oiginal data\n",
    "# data = pd.read_csv('regression_data1.csv') \n",
    "# display(data.head())\n",
    "# data.shape"
   ]
  },
  {
   "cell_type": "code",
   "execution_count": null,
   "id": "6d19f00c",
   "metadata": {},
   "outputs": [],
   "source": [
    "sns.scatterplot(x=data['Income'], y=data['Monthly_Premium_Auto'])\n",
    "plt.show()"
   ]
  },
  {
   "cell_type": "code",
   "execution_count": null,
   "id": "75c5c41f",
   "metadata": {},
   "outputs": [],
   "source": [
    "from sklearn.preprocessing import MinMaxScaler # do not use the function Normalise() - it does something entirely different\n",
    "from sklearn.preprocessing import StandardScaler\n",
    "\n",
    "y = df['Monthly_Premium_Auto']\n",
    "X = df.drop(['Monthly_Premium_Auto'], axis=1)\n",
    "X_num = X.select_dtypes(include = np.number)\n",
    "X_cat = X.select_dtypes(include = object)"
   ]
  },
  {
   "cell_type": "code",
   "execution_count": null,
   "id": "6e313f53",
   "metadata": {},
   "outputs": [],
   "source": [
    "# Normalizing data: make data range from 0 - 1, instead of from min to max\n",
    "transformer = MinMaxScaler().fit(X_num)\n",
    "x_normalized = transformer.transform(X_num)\n",
    "print(x_normalized.shape)\n",
    "x_normalized\n",
    "pd.DataFrame(x_normalized, columns=X_num.columns)"
   ]
  },
  {
   "cell_type": "code",
   "execution_count": null,
   "id": "fd65525e",
   "metadata": {},
   "outputs": [],
   "source": [
    "# scaling standard scaler: make data distributed with mean=0 and std=1\n",
    "transformer = StandardScaler().fit(X_num)\n",
    "x_standardized = transformer.transform(X_num)\n",
    "print(x_standardized.shape)\n",
    "pd.DataFrame(x_standardized, columns=X_num.columns)"
   ]
  },
  {
   "cell_type": "code",
   "execution_count": null,
   "id": "351aae92",
   "metadata": {},
   "outputs": [],
   "source": [
    "pd.DataFrame(x_normalized, columns=X_num.columns).corr()"
   ]
  }
 ],
 "metadata": {
  "kernelspec": {
   "display_name": "Python 3 (ipykernel)",
   "language": "python",
   "name": "python3"
  },
  "language_info": {
   "codemirror_mode": {
    "name": "ipython",
    "version": 3
   },
   "file_extension": ".py",
   "mimetype": "text/x-python",
   "name": "python",
   "nbconvert_exporter": "python",
   "pygments_lexer": "ipython3",
   "version": "3.9.12"
  }
 },
 "nbformat": 4,
 "nbformat_minor": 5
}
